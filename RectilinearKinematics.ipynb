{
 "cells": [
  {
   "cell_type": "markdown",
   "metadata": {
    "collapsed": true,
    "pycharm": {
     "name": "#%% md\n"
    }
   },
   "source": [
    "## Rectilinear Kinematics\n",
    "<!-- Define LaTeX shortcuts -->\n",
    "$\\newcommand{\\Mdim}{{\\,\\mathrm{M}}}$    <!-- Define mass dimension shortcut -->\n",
    "$\\newcommand{\\Ldim}{{\\,\\mathrm{L}}}$    <!-- Define length dimension shortcut -->\n",
    "$\\newcommand{\\Tdim}{{\\,\\mathrm{T}}}$    <!-- Define time dimension shortcut -->\n",
    "## Continuous quantities\n",
    "| Concept      | Dimensions                     | SI unit | Differential Relationship | Integral Relationship                          |\n",
    "| :---         | ---                            | :---:   | :---:                     | :---:                                          |\n",
    "| Position     | $\\textrm{dim}(s) = \\textrm{L}$ | m       | $s = \\frac{dA }{dt}$                       | $s = s_0 + \\int^{t} v(t^{\\prime})\\, dt^{\\prime}$ |\n",
    "| Velocity     | $\\textrm{dim}(v) = \\textrm{LT} ^{-1}$ | $\\textrm{m/s}$      | $v = \\frac{ds}{dt}$       | $v = v_0 + \\int^{t} a(t^{\\prime})\\, dt^{\\prime}$ |\n",
    "| Acceleration | $\\textrm{dim}(a) = \\textrm{LT} ^{-2}$ | $\\textrm{m/s}^2$       | $a = \\frac{dv}{dt}$   |$a = a_0 + \\int^{t} j(t^{\\prime})\\, dt^{\\prime}$|\n",
    "\n",
    "## Discrete quantities\n",
    "| Concept              | Dimensions                     | SI unit | Divisional Relationship   | Multiplicative Relationship            |\n",
    "| :---                 | ---                            | :---:   | :---:                     | :---:                                  |\n",
    "| Total Distance       | $\\textrm{dim}(s^{\\prime}) = \\textrm{L}$ | m       | --                        | $s^{\\prime}= ? \\times ?$                       |\n",
    "| Displacement         | $\\textrm{dim}({\\Delta}s) = \\textrm{L}$ | m       | --                        | ${\\Delta}s = ? \\times ?$                       |\n",
    "| Average Speed        | $\\textrm{dim}((v_{sp})_{ave}) = \\textrm{LT} ^{-1}$ | m/s       | $(v_{sp})_{ave} = \\frac{s_T}{\\Delta t}$         | $(v_{sp})_{ave}= ? \\times ?$                       |\n",
    "| Average Velocity     | $\\textrm{dim}(v_{ave}) = \\textrm{LT} ^{-1}$ | m/s     | $v_{ave} = \\frac{\\Delta s}{\\Delta t}$         | $v_{ave} = ? \\times ?$                       |\n",
    "| Average Acceleration | $\\textrm{dim}(a_{ave}) = \\textrm{LT} ^{-2}$ | $\\textrm{m/s}^2$     | $a_{ave} = \\frac{\\Delta v}{\\Delta t}$         | --                                     |\n",
    "\n",
    "## Other Relationships\n",
    "### Time-free Continuous Quantity Differential Relationship\n",
    "<!-- use \\, to space letter expressions that multiply -->\n",
    "\n",
    "$ dt = \\frac{ds}{v} = \\frac{dv}{a}$\n",
    "\n",
    "$\\Rightarrow a\\, ds = v\\, dv$\n",
    "\n",
    "\n",
    "\n",
    "### Constant Acceleration Equations\n",
    "<!-- Blocks of equations use align and should align at the = sign\n",
    "     Each line should end with \\\\ -->\n",
    "\\begin{align}\n",
    "v   &= v_0 + a_c\\, t \\\\\n",
    "s   &= s_0 + v_0\\, t + \\frac{1}{2}a_c\\,t^2\\\\\n",
    "v^2 &= v^2_0 + 2\\, a_c\\, (s-s_0)\\\\\n",
    "\\end{align}"
   ]
  },
  {
   "cell_type": "markdown",
   "source": [
    "## Problems\n",
    "(from Hibbeler, ___Dynamics___, 14th ed.)\n",
    "$\\newcommand{\\meter}{{\\,\\mathrm{m}}}$                                <!-- Define meter symbol shortcut -->\n",
    "$\\newcommand{\\second}{{\\,\\mathrm{s}}}$                               <!-- Define second symbol shortcut -->\n",
    "$\\newcommand{\\meterpersecond}{{\\;\\mathrm{m}/\\mathrm{s}}}$            <!-- Define meter per second symbol shortcut -->\n",
    "$\\newcommand{\\meterpersecondsquare}{{\\;\\mathrm{m}/\\mathrm{s}^2}}$   <!-- Define meter per second squared symbol shortcut -->\n",
    "### Preliminary Problem 12-1\n",
    "#### a)\n",
    "<!-- State problem -->\n",
    "If $s = (2t^3) \\mathrm{m}$, where $t$ is in seconds, determine $v$ when $t = 2\\second$.\n",
    "\n",
    "<!-- State relevant relationships -->\n",
    "$v = \\frac{ds}{dt}$\n",
    "<!-- Input problem-specific values and relationships, then solve symbolically -->\n",
    "$\\rightarrow v(t = 2\\mathrm{s}) = \\frac{d}{dt}(2t^3)|_{t = 2\\mathrm{s}} \\mathrm{m}/\\mathrm{s} = 6t^2|_{t = 2\\mathrm{s}} \\mathrm{m}/\\mathrm{s}$"
   ],
   "metadata": {
    "collapsed": false,
    "pycharm": {
     "name": "#%% md\n"
    }
   }
  },
  {
   "cell_type": "code",
   "execution_count": 13,
   "outputs": [
    {
     "name": "stdout",
     "output_type": "stream",
     "text": [
      "v(t = 2 s) = 14 m/s\n"
     ]
    }
   ],
   "source": [
    "# Perform calculations using Python\n",
    "time = 2  # s\n",
    "velocity = 6 * time^2\n",
    "print(f'v(t = 2 s) = {velocity} m/s')"
   ],
   "metadata": {
    "collapsed": false,
    "pycharm": {
     "name": "#%%\n"
    }
   }
  },
  {
   "cell_type": "markdown",
   "source": [
    "<!-- Make a new markdown section for each problem to ease reading -->\n",
    "#### b)\n",
    "If $v=(5s)\\mathrm{m}/\\mathrm{s}$,where $s$ is in meters, determine $a$ at $s=1 \\mathrm{m}$.\n",
    "\n",
    "$a\\, ds = v\\, dv \\rightarrow a(s) = v(s)\\, \\frac{dv}{ds}$\n",
    "\n",
    "$v(s) = (5s)\\mathrm{m}/\\mathrm{s}$ ; $\\frac{dv}{ds} = 5$\n",
    "\n",
    "$\\Rightarrow a(s)= 5\\, s\\, (5)\\, \\mathrm{m}/\\mathrm{s}^2$"
   ],
   "metadata": {
    "collapsed": false,
    "pycharm": {
     "name": "#%% md\n"
    }
   }
  },
  {
   "cell_type": "code",
   "execution_count": 14,
   "outputs": [
    {
     "name": "stdout",
     "output_type": "stream",
     "text": [
      "a(s=1m) = 25 m/s^2\n"
     ]
    }
   ],
   "source": [
    "position = 1\n",
    "acceleration = 25*position\n",
    "print(f'a(s=1m) = {acceleration} m/s^2')"
   ],
   "metadata": {
    "collapsed": false,
    "pycharm": {
     "name": "#%%\n"
    }
   }
  },
  {
   "cell_type": "markdown",
   "source": [
    "#### c)\n",
    "If $v = (4t + 5)\\mathrm{m}/\\mathrm{s}$, where $t$ is in seconds, determine $a$\n",
    "when $t = 2\\mathrm{s}$.\n",
    "\n",
    "$ dt = \\frac{dv}{a} \\rightarrow  a = \\frac{dv}{dt}$\n",
    "\n",
    "$v(t) = (4t + 5)\\mathrm{m}/\\mathrm{s}$ ; $\\frac{dv}{dt} = 4$\n",
    "\n",
    "$ \\Rightarrow a(s) = 4\\, \\mathrm{m}/\\mathrm{s}^2$"
   ],
   "metadata": {
    "collapsed": false
   }
  },
  {
   "cell_type": "code",
   "execution_count": 15,
   "outputs": [
    {
     "name": "stdout",
     "output_type": "stream",
     "text": [
      "a(t=1s) = 4 m/s@\n"
     ]
    }
   ],
   "source": [
    "time = 2\n",
    "acceleration = 4\n",
    "print(f'a(t=1s) = {acceleration} m/s@')"
   ],
   "metadata": {
    "collapsed": false,
    "pycharm": {
     "name": "#%%\n"
    }
   }
  },
  {
   "cell_type": "markdown",
   "source": [
    "#### d)\n",
    "If $a = 2 \\mathrm{m}/\\mathrm{s}^2$, determine $v$ when $t = 2 \\mathrm{m}$ if $v = 0$ when $t = 0$."
   ],
   "metadata": {
    "collapsed": false
   }
  },
  {
   "cell_type": "markdown",
   "source": [
    "#### e)\n",
    "If $a = 2 \\mathrm{m}/\\mathrm{s}^2$, determine $v$ at $s = 4  \\mathrm{m}$ if $v = 3 \\mathrm{m}/\\mathrm{s}$ at $s = 0$"
   ],
   "metadata": {
    "collapsed": false
   }
  },
  {
   "cell_type": "markdown",
   "source": [
    "#### f)\n",
    "If $a = (s) \\mathrm{m}/\\mathrm{s}^2$, where $s$ is in meters, determine $v$ when $s = 5  \\mathrm{m}$ if $v = 0$ at $s = 4\n",
    "\\meter$."
   ],
   "metadata": {
    "collapsed": false,
    "pycharm": {
     "name": "#%% md\n"
    }
   }
  },
  {
   "cell_type": "markdown",
   "source": [
    "#### g)\n",
    "If $a = 4 \\mathrm{m}/\\mathrm{s}^2$, determine $s$ when $t = 3 \\mathrm{s}$ if $v = 2 \\mathrm{m}/\\mathrm{s}$ and $s = 2  \\mathrm{m}$ when\n",
    "$t = 0$."
   ],
   "metadata": {
    "collapsed": false,
    "pycharm": {
     "name": "#%% md\n"
    }
   }
  },
  {
   "cell_type": "markdown",
   "source": [
    "#### h)\n",
    "If $a = (8t^2) \\mathrm{m}/\\mathrm{s}^2$ , determine $v$ when $t = 1 \\mathrm{s}$ if $v = 0$ at $t = 0$."
   ],
   "metadata": {
    "collapsed": false,
    "pycharm": {
     "name": "#%% md\n"
    }
   }
  },
  {
   "cell_type": "markdown",
   "source": [
    "#### i)\n",
    "If $s = (3t^2 + 2) \\mathrm{m}$, determine $v$ when $t = 2 \\mathrm{s}$."
   ],
   "metadata": {
    "collapsed": false
   }
  },
  {
   "cell_type": "markdown",
   "source": [
    "#### j)\n",
    "\n",
    "When $t = 0$ the particle is at $A$. In four seconds it travels to $B$, then in another six seconds it travels to $C$.\n",
    "Determine the average velocity and the average speed. The origin of the coordinate is at $O$."
   ],
   "metadata": {
    "collapsed": false
   }
  },
  {
   "cell_type": "code",
   "execution_count": 16,
   "outputs": [
    {
     "name": "stderr",
     "output_type": "stream",
     "text": [
      "ERROR:root:Internal Python error in the inspect module.\n",
      "Below is the traceback from this internal error.\n",
      "\n"
     ]
    },
    {
     "name": "stdout",
     "output_type": "stream",
     "text": [
      "Traceback (most recent call last):\n",
      "  File \"c:\\users\\mary\\appdata\\local\\programs\\python\\python38\\lib\\site-packages\\IPython\\core\\interactiveshell.py\", line 3437, in run_code\n",
      "    exec(code_obj, self.user_global_ns, self.user_ns)\n",
      "  File \"<ipython-input-16-8f6225a90711>\", line 2, in <module>\n",
      "    import matplotlib.pyplot as plt\n",
      "  File \"c:\\users\\mary\\appdata\\local\\programs\\python\\python38\\lib\\site-packages\\matplotlib\\__init__.py\", line 107, in <module>\n",
      "    from . import _api, cbook, docstring, rcsetup\n",
      "  File \"c:\\users\\mary\\appdata\\local\\programs\\python\\python38\\lib\\site-packages\\matplotlib\\cbook\\__init__.py\", line 28, in <module>\n",
      "    import numpy as np\n",
      "  File \"c:\\users\\mary\\appdata\\local\\programs\\python\\python38\\lib\\site-packages\\numpy\\__init__.py\", line 145, in <module>\n",
      "    from . import core\n",
      "  File \"c:\\users\\mary\\appdata\\local\\programs\\python\\python38\\lib\\site-packages\\numpy\\core\\__init__.py\", line 18, in <module>\n",
      "    os.environ[envkey] = '1'\n",
      "  File \"c:\\users\\mary\\appdata\\local\\programs\\python\\python38\\lib\\os.py\", line 682, in __setitem__\n",
      "    self._data[key] = value\n",
      "KeyboardInterrupt\n",
      "\n",
      "During handling of the above exception, another exception occurred:\n",
      "\n",
      "Traceback (most recent call last):\n",
      "  File \"c:\\users\\mary\\appdata\\local\\programs\\python\\python38\\lib\\site-packages\\IPython\\core\\interactiveshell.py\", line 2061, in showtraceback\n",
      "    stb = value._render_traceback_()\n",
      "AttributeError: 'KeyboardInterrupt' object has no attribute '_render_traceback_'\n",
      "\n",
      "During handling of the above exception, another exception occurred:\n",
      "\n",
      "Traceback (most recent call last):\n",
      "  File \"c:\\users\\mary\\appdata\\local\\programs\\python\\python38\\lib\\site-packages\\IPython\\core\\ultratb.py\", line 1101, in get_records\n",
      "    return _fixed_getinnerframes(etb, number_of_lines_of_context, tb_offset)\n",
      "  File \"c:\\users\\mary\\appdata\\local\\programs\\python\\python38\\lib\\site-packages\\IPython\\core\\ultratb.py\", line 248, in wrapped\n",
      "    return f(*args, **kwargs)\n",
      "  File \"c:\\users\\mary\\appdata\\local\\programs\\python\\python38\\lib\\site-packages\\IPython\\core\\ultratb.py\", line 281, in _fixed_getinnerframes\n",
      "    records = fix_frame_records_filenames(inspect.getinnerframes(etb, context))\n",
      "  File \"c:\\users\\mary\\appdata\\local\\programs\\python\\python38\\lib\\inspect.py\", line 1515, in getinnerframes\n",
      "    frameinfo = (tb.tb_frame,) + getframeinfo(tb, context)\n",
      "  File \"c:\\users\\mary\\appdata\\local\\programs\\python\\python38\\lib\\inspect.py\", line 1473, in getframeinfo\n",
      "    filename = getsourcefile(frame) or getfile(frame)\n",
      "  File \"c:\\users\\mary\\appdata\\local\\programs\\python\\python38\\lib\\inspect.py\", line 708, in getsourcefile\n",
      "    if getattr(getmodule(object, filename), '__loader__', None) is not None:\n",
      "  File \"c:\\users\\mary\\appdata\\local\\programs\\python\\python38\\lib\\inspect.py\", line 746, in getmodule\n",
      "    f = module.__file__\n",
      "KeyboardInterrupt\n"
     ]
    },
    {
     "ename": "TypeError",
     "evalue": "object of type 'NoneType' has no len()",
     "output_type": "error",
     "traceback": [
      "\u001B[1;31m---------------------------------------------------------------------------\u001B[0m",
      "\u001B[1;31mKeyboardInterrupt\u001B[0m                         Traceback (most recent call last)",
      "    \u001B[1;31m[... skipping hidden 1 frame]\u001B[0m\n",
      "\u001B[1;32m<ipython-input-16-8f6225a90711>\u001B[0m in \u001B[0;36m<module>\u001B[1;34m\u001B[0m\n\u001B[0;32m      1\u001B[0m \u001B[1;31m# On rare occasion, use Python to make diagrams\u001B[0m\u001B[1;33m\u001B[0m\u001B[1;33m\u001B[0m\u001B[1;33m\u001B[0m\u001B[0m\n\u001B[1;32m----> 2\u001B[1;33m \u001B[1;32mimport\u001B[0m \u001B[0mmatplotlib\u001B[0m\u001B[1;33m.\u001B[0m\u001B[0mpyplot\u001B[0m \u001B[1;32mas\u001B[0m \u001B[0mplt\u001B[0m\u001B[1;33m\u001B[0m\u001B[1;33m\u001B[0m\u001B[0m\n\u001B[0m\u001B[0;32m      3\u001B[0m \u001B[1;32mimport\u001B[0m \u001B[0mnumpy\u001B[0m \u001B[1;32mas\u001B[0m \u001B[0mnp\u001B[0m\u001B[1;33m\u001B[0m\u001B[1;33m\u001B[0m\u001B[0m\n",
      "\u001B[1;32mc:\\users\\mary\\appdata\\local\\programs\\python\\python38\\lib\\site-packages\\matplotlib\\__init__.py\u001B[0m in \u001B[0;36m<module>\u001B[1;34m\u001B[0m\n\u001B[0;32m    106\u001B[0m \u001B[1;31m# definitions, so it is safe to import from it here.\u001B[0m\u001B[1;33m\u001B[0m\u001B[1;33m\u001B[0m\u001B[1;33m\u001B[0m\u001B[0m\n\u001B[1;32m--> 107\u001B[1;33m \u001B[1;32mfrom\u001B[0m \u001B[1;33m.\u001B[0m \u001B[1;32mimport\u001B[0m \u001B[0m_api\u001B[0m\u001B[1;33m,\u001B[0m \u001B[0mcbook\u001B[0m\u001B[1;33m,\u001B[0m \u001B[0mdocstring\u001B[0m\u001B[1;33m,\u001B[0m \u001B[0mrcsetup\u001B[0m\u001B[1;33m\u001B[0m\u001B[1;33m\u001B[0m\u001B[0m\n\u001B[0m\u001B[0;32m    108\u001B[0m \u001B[1;32mfrom\u001B[0m \u001B[0mmatplotlib\u001B[0m\u001B[1;33m.\u001B[0m\u001B[0mcbook\u001B[0m \u001B[1;32mimport\u001B[0m \u001B[0mMatplotlibDeprecationWarning\u001B[0m\u001B[1;33m,\u001B[0m \u001B[0msanitize_sequence\u001B[0m\u001B[1;33m\u001B[0m\u001B[1;33m\u001B[0m\u001B[0m\n",
      "\u001B[1;32mc:\\users\\mary\\appdata\\local\\programs\\python\\python38\\lib\\site-packages\\matplotlib\\cbook\\__init__.py\u001B[0m in \u001B[0;36m<module>\u001B[1;34m\u001B[0m\n\u001B[0;32m     27\u001B[0m \u001B[1;33m\u001B[0m\u001B[0m\n\u001B[1;32m---> 28\u001B[1;33m \u001B[1;32mimport\u001B[0m \u001B[0mnumpy\u001B[0m \u001B[1;32mas\u001B[0m \u001B[0mnp\u001B[0m\u001B[1;33m\u001B[0m\u001B[1;33m\u001B[0m\u001B[0m\n\u001B[0m\u001B[0;32m     29\u001B[0m \u001B[1;33m\u001B[0m\u001B[0m\n",
      "\u001B[1;32mc:\\users\\mary\\appdata\\local\\programs\\python\\python38\\lib\\site-packages\\numpy\\__init__.py\u001B[0m in \u001B[0;36m<module>\u001B[1;34m\u001B[0m\n\u001B[0;32m    144\u001B[0m \u001B[1;33m\u001B[0m\u001B[0m\n\u001B[1;32m--> 145\u001B[1;33m     \u001B[1;32mfrom\u001B[0m \u001B[1;33m.\u001B[0m \u001B[1;32mimport\u001B[0m \u001B[0mcore\u001B[0m\u001B[1;33m\u001B[0m\u001B[1;33m\u001B[0m\u001B[0m\n\u001B[0m\u001B[0;32m    146\u001B[0m     \u001B[1;32mfrom\u001B[0m \u001B[1;33m.\u001B[0m\u001B[0mcore\u001B[0m \u001B[1;32mimport\u001B[0m \u001B[1;33m*\u001B[0m\u001B[1;33m\u001B[0m\u001B[1;33m\u001B[0m\u001B[0m\n",
      "\u001B[1;32mc:\\users\\mary\\appdata\\local\\programs\\python\\python38\\lib\\site-packages\\numpy\\core\\__init__.py\u001B[0m in \u001B[0;36m<module>\u001B[1;34m\u001B[0m\n\u001B[0;32m     17\u001B[0m     \u001B[1;32mif\u001B[0m \u001B[0menvkey\u001B[0m \u001B[1;32mnot\u001B[0m \u001B[1;32min\u001B[0m \u001B[0mos\u001B[0m\u001B[1;33m.\u001B[0m\u001B[0menviron\u001B[0m\u001B[1;33m:\u001B[0m\u001B[1;33m\u001B[0m\u001B[1;33m\u001B[0m\u001B[0m\n\u001B[1;32m---> 18\u001B[1;33m         \u001B[0mos\u001B[0m\u001B[1;33m.\u001B[0m\u001B[0menviron\u001B[0m\u001B[1;33m[\u001B[0m\u001B[0menvkey\u001B[0m\u001B[1;33m]\u001B[0m \u001B[1;33m=\u001B[0m \u001B[1;34m'1'\u001B[0m\u001B[1;33m\u001B[0m\u001B[1;33m\u001B[0m\u001B[0m\n\u001B[0m\u001B[0;32m     19\u001B[0m         \u001B[0menv_added\u001B[0m\u001B[1;33m.\u001B[0m\u001B[0mappend\u001B[0m\u001B[1;33m(\u001B[0m\u001B[0menvkey\u001B[0m\u001B[1;33m)\u001B[0m\u001B[1;33m\u001B[0m\u001B[1;33m\u001B[0m\u001B[0m\n",
      "\u001B[1;32mc:\\users\\mary\\appdata\\local\\programs\\python\\python38\\lib\\os.py\u001B[0m in \u001B[0;36m__setitem__\u001B[1;34m(self, key, value)\u001B[0m\n\u001B[0;32m    681\u001B[0m         \u001B[0mself\u001B[0m\u001B[1;33m.\u001B[0m\u001B[0mputenv\u001B[0m\u001B[1;33m(\u001B[0m\u001B[0mkey\u001B[0m\u001B[1;33m,\u001B[0m \u001B[0mvalue\u001B[0m\u001B[1;33m)\u001B[0m\u001B[1;33m\u001B[0m\u001B[1;33m\u001B[0m\u001B[0m\n\u001B[1;32m--> 682\u001B[1;33m         \u001B[0mself\u001B[0m\u001B[1;33m.\u001B[0m\u001B[0m_data\u001B[0m\u001B[1;33m[\u001B[0m\u001B[0mkey\u001B[0m\u001B[1;33m]\u001B[0m \u001B[1;33m=\u001B[0m \u001B[0mvalue\u001B[0m\u001B[1;33m\u001B[0m\u001B[1;33m\u001B[0m\u001B[0m\n\u001B[0m\u001B[0;32m    683\u001B[0m \u001B[1;33m\u001B[0m\u001B[0m\n",
      "\u001B[1;31mKeyboardInterrupt\u001B[0m: ",
      "\nDuring handling of the above exception, another exception occurred:\n",
      "\u001B[1;31mAttributeError\u001B[0m                            Traceback (most recent call last)",
      "\u001B[1;32mc:\\users\\mary\\appdata\\local\\programs\\python\\python38\\lib\\site-packages\\IPython\\core\\interactiveshell.py\u001B[0m in \u001B[0;36mshowtraceback\u001B[1;34m(self, exc_tuple, filename, tb_offset, exception_only, running_compiled_code)\u001B[0m\n\u001B[0;32m   2060\u001B[0m                         \u001B[1;31m# in the engines. This should return a list of strings.\u001B[0m\u001B[1;33m\u001B[0m\u001B[1;33m\u001B[0m\u001B[1;33m\u001B[0m\u001B[0m\n\u001B[1;32m-> 2061\u001B[1;33m                         \u001B[0mstb\u001B[0m \u001B[1;33m=\u001B[0m \u001B[0mvalue\u001B[0m\u001B[1;33m.\u001B[0m\u001B[0m_render_traceback_\u001B[0m\u001B[1;33m(\u001B[0m\u001B[1;33m)\u001B[0m\u001B[1;33m\u001B[0m\u001B[1;33m\u001B[0m\u001B[0m\n\u001B[0m\u001B[0;32m   2062\u001B[0m                     \u001B[1;32mexcept\u001B[0m \u001B[0mException\u001B[0m\u001B[1;33m:\u001B[0m\u001B[1;33m\u001B[0m\u001B[1;33m\u001B[0m\u001B[0m\n",
      "\u001B[1;31mAttributeError\u001B[0m: 'KeyboardInterrupt' object has no attribute '_render_traceback_'",
      "\nDuring handling of the above exception, another exception occurred:\n",
      "\u001B[1;31mTypeError\u001B[0m                                 Traceback (most recent call last)",
      "    \u001B[1;31m[... skipping hidden 1 frame]\u001B[0m\n",
      "\u001B[1;32mc:\\users\\mary\\appdata\\local\\programs\\python\\python38\\lib\\site-packages\\IPython\\core\\interactiveshell.py\u001B[0m in \u001B[0;36mshowtraceback\u001B[1;34m(self, exc_tuple, filename, tb_offset, exception_only, running_compiled_code)\u001B[0m\n\u001B[0;32m   2061\u001B[0m                         \u001B[0mstb\u001B[0m \u001B[1;33m=\u001B[0m \u001B[0mvalue\u001B[0m\u001B[1;33m.\u001B[0m\u001B[0m_render_traceback_\u001B[0m\u001B[1;33m(\u001B[0m\u001B[1;33m)\u001B[0m\u001B[1;33m\u001B[0m\u001B[1;33m\u001B[0m\u001B[0m\n\u001B[0;32m   2062\u001B[0m                     \u001B[1;32mexcept\u001B[0m \u001B[0mException\u001B[0m\u001B[1;33m:\u001B[0m\u001B[1;33m\u001B[0m\u001B[1;33m\u001B[0m\u001B[0m\n\u001B[1;32m-> 2063\u001B[1;33m                         stb = self.InteractiveTB.structured_traceback(etype,\n\u001B[0m\u001B[0;32m   2064\u001B[0m                                             value, tb, tb_offset=tb_offset)\n\u001B[0;32m   2065\u001B[0m \u001B[1;33m\u001B[0m\u001B[0m\n",
      "\u001B[1;32mc:\\users\\mary\\appdata\\local\\programs\\python\\python38\\lib\\site-packages\\IPython\\core\\ultratb.py\u001B[0m in \u001B[0;36mstructured_traceback\u001B[1;34m(self, etype, value, tb, tb_offset, number_of_lines_of_context)\u001B[0m\n\u001B[0;32m   1365\u001B[0m         \u001B[1;32melse\u001B[0m\u001B[1;33m:\u001B[0m\u001B[1;33m\u001B[0m\u001B[1;33m\u001B[0m\u001B[0m\n\u001B[0;32m   1366\u001B[0m             \u001B[0mself\u001B[0m\u001B[1;33m.\u001B[0m\u001B[0mtb\u001B[0m \u001B[1;33m=\u001B[0m \u001B[0mtb\u001B[0m\u001B[1;33m\u001B[0m\u001B[1;33m\u001B[0m\u001B[0m\n\u001B[1;32m-> 1367\u001B[1;33m         return FormattedTB.structured_traceback(\n\u001B[0m\u001B[0;32m   1368\u001B[0m             self, etype, value, tb, tb_offset, number_of_lines_of_context)\n\u001B[0;32m   1369\u001B[0m \u001B[1;33m\u001B[0m\u001B[0m\n",
      "\u001B[1;32mc:\\users\\mary\\appdata\\local\\programs\\python\\python38\\lib\\site-packages\\IPython\\core\\ultratb.py\u001B[0m in \u001B[0;36mstructured_traceback\u001B[1;34m(self, etype, value, tb, tb_offset, number_of_lines_of_context)\u001B[0m\n\u001B[0;32m   1265\u001B[0m         \u001B[1;32mif\u001B[0m \u001B[0mmode\u001B[0m \u001B[1;32min\u001B[0m \u001B[0mself\u001B[0m\u001B[1;33m.\u001B[0m\u001B[0mverbose_modes\u001B[0m\u001B[1;33m:\u001B[0m\u001B[1;33m\u001B[0m\u001B[1;33m\u001B[0m\u001B[0m\n\u001B[0;32m   1266\u001B[0m             \u001B[1;31m# Verbose modes need a full traceback\u001B[0m\u001B[1;33m\u001B[0m\u001B[1;33m\u001B[0m\u001B[1;33m\u001B[0m\u001B[0m\n\u001B[1;32m-> 1267\u001B[1;33m             return VerboseTB.structured_traceback(\n\u001B[0m\u001B[0;32m   1268\u001B[0m                 \u001B[0mself\u001B[0m\u001B[1;33m,\u001B[0m \u001B[0metype\u001B[0m\u001B[1;33m,\u001B[0m \u001B[0mvalue\u001B[0m\u001B[1;33m,\u001B[0m \u001B[0mtb\u001B[0m\u001B[1;33m,\u001B[0m \u001B[0mtb_offset\u001B[0m\u001B[1;33m,\u001B[0m \u001B[0mnumber_of_lines_of_context\u001B[0m\u001B[1;33m\u001B[0m\u001B[1;33m\u001B[0m\u001B[0m\n\u001B[0;32m   1269\u001B[0m             )\n",
      "\u001B[1;32mc:\\users\\mary\\appdata\\local\\programs\\python\\python38\\lib\\site-packages\\IPython\\core\\ultratb.py\u001B[0m in \u001B[0;36mstructured_traceback\u001B[1;34m(self, etype, evalue, etb, tb_offset, number_of_lines_of_context)\u001B[0m\n\u001B[0;32m   1122\u001B[0m         \u001B[1;34m\"\"\"Return a nice text document describing the traceback.\"\"\"\u001B[0m\u001B[1;33m\u001B[0m\u001B[1;33m\u001B[0m\u001B[0m\n\u001B[0;32m   1123\u001B[0m \u001B[1;33m\u001B[0m\u001B[0m\n\u001B[1;32m-> 1124\u001B[1;33m         formatted_exception = self.format_exception_as_a_whole(etype, evalue, etb, number_of_lines_of_context,\n\u001B[0m\u001B[0;32m   1125\u001B[0m                                                                tb_offset)\n\u001B[0;32m   1126\u001B[0m \u001B[1;33m\u001B[0m\u001B[0m\n",
      "\u001B[1;32mc:\\users\\mary\\appdata\\local\\programs\\python\\python38\\lib\\site-packages\\IPython\\core\\ultratb.py\u001B[0m in \u001B[0;36mformat_exception_as_a_whole\u001B[1;34m(self, etype, evalue, etb, number_of_lines_of_context, tb_offset)\u001B[0m\n\u001B[0;32m   1080\u001B[0m \u001B[1;33m\u001B[0m\u001B[0m\n\u001B[0;32m   1081\u001B[0m \u001B[1;33m\u001B[0m\u001B[0m\n\u001B[1;32m-> 1082\u001B[1;33m         \u001B[0mlast_unique\u001B[0m\u001B[1;33m,\u001B[0m \u001B[0mrecursion_repeat\u001B[0m \u001B[1;33m=\u001B[0m \u001B[0mfind_recursion\u001B[0m\u001B[1;33m(\u001B[0m\u001B[0morig_etype\u001B[0m\u001B[1;33m,\u001B[0m \u001B[0mevalue\u001B[0m\u001B[1;33m,\u001B[0m \u001B[0mrecords\u001B[0m\u001B[1;33m)\u001B[0m\u001B[1;33m\u001B[0m\u001B[1;33m\u001B[0m\u001B[0m\n\u001B[0m\u001B[0;32m   1083\u001B[0m \u001B[1;33m\u001B[0m\u001B[0m\n\u001B[0;32m   1084\u001B[0m         \u001B[0mframes\u001B[0m \u001B[1;33m=\u001B[0m \u001B[0mself\u001B[0m\u001B[1;33m.\u001B[0m\u001B[0mformat_records\u001B[0m\u001B[1;33m(\u001B[0m\u001B[0mrecords\u001B[0m\u001B[1;33m,\u001B[0m \u001B[0mlast_unique\u001B[0m\u001B[1;33m,\u001B[0m \u001B[0mrecursion_repeat\u001B[0m\u001B[1;33m)\u001B[0m\u001B[1;33m\u001B[0m\u001B[1;33m\u001B[0m\u001B[0m\n",
      "\u001B[1;32mc:\\users\\mary\\appdata\\local\\programs\\python\\python38\\lib\\site-packages\\IPython\\core\\ultratb.py\u001B[0m in \u001B[0;36mfind_recursion\u001B[1;34m(etype, value, records)\u001B[0m\n\u001B[0;32m    380\u001B[0m     \u001B[1;31m# first frame (from in to out) that looks different.\u001B[0m\u001B[1;33m\u001B[0m\u001B[1;33m\u001B[0m\u001B[1;33m\u001B[0m\u001B[0m\n\u001B[0;32m    381\u001B[0m     \u001B[1;32mif\u001B[0m \u001B[1;32mnot\u001B[0m \u001B[0mis_recursion_error\u001B[0m\u001B[1;33m(\u001B[0m\u001B[0metype\u001B[0m\u001B[1;33m,\u001B[0m \u001B[0mvalue\u001B[0m\u001B[1;33m,\u001B[0m \u001B[0mrecords\u001B[0m\u001B[1;33m)\u001B[0m\u001B[1;33m:\u001B[0m\u001B[1;33m\u001B[0m\u001B[1;33m\u001B[0m\u001B[0m\n\u001B[1;32m--> 382\u001B[1;33m         \u001B[1;32mreturn\u001B[0m \u001B[0mlen\u001B[0m\u001B[1;33m(\u001B[0m\u001B[0mrecords\u001B[0m\u001B[1;33m)\u001B[0m\u001B[1;33m,\u001B[0m \u001B[1;36m0\u001B[0m\u001B[1;33m\u001B[0m\u001B[1;33m\u001B[0m\u001B[0m\n\u001B[0m\u001B[0;32m    383\u001B[0m \u001B[1;33m\u001B[0m\u001B[0m\n\u001B[0;32m    384\u001B[0m     \u001B[1;31m# Select filename, lineno, func_name to track frames with\u001B[0m\u001B[1;33m\u001B[0m\u001B[1;33m\u001B[0m\u001B[1;33m\u001B[0m\u001B[0m\n",
      "\u001B[1;31mTypeError\u001B[0m: object of type 'NoneType' has no len()"
     ]
    }
   ],
   "source": [
    "# On rare occasion, use Python to make diagrams\n",
    "import matplotlib.pyplot as plt\n",
    "import numpy as np\n",
    "# Set plot range\n",
    "plot_extremes = [[-9., 10.],\n",
    "                 [-6., 6.]]\n",
    "plt.xlim(plot_extremes[0])\n",
    "plt.ylim(plot_extremes[1])\n",
    "plot_ranges = [np.diff(plot_extremes[0]), np.diff(plot_extremes[1])]\n",
    "# Draw axis\n",
    "plt.arrow(plot_extremes[0][0], 0., 0.9*plot_ranges[0][0], 0., color='k', head_width=0.)\n",
    "# Label axis\n",
    "plt.text(plot_extremes[0][0]+0.95*plot_ranges[0][0], 0., r'$s$', ha='center', va='center', fontsize=12)\n",
    "# Draw points\n",
    "dot_radius = 0.005*plot_ranges[0][0]\n",
    "dot_color = 'black'\n",
    "ax = plt.gca()\n",
    "dot_x_values = [-8., -1., 6.]\n",
    "for dot_x in dot_x_values:\n",
    "    dot = plt.Circle((dot_x, 0.), radius=dot_radius, color=dot_color)\n",
    "    ax.add_patch(dot)\n",
    "# Mark origin\n",
    "plt.plot([0., 0.], [-0.125, 0.125], color='black')\n",
    "# Draw labels\n",
    "labels = [r'$B$', r'$A$', r'$O$', r'$C$']\n",
    "label_coordinates = [[-8.5, -0.5], [-0.5, 0.5], [0.5, 0.5], [6., 0.5]]\n",
    "for label_index, label in enumerate(labels):\n",
    "    x, y = label_coordinates[label_index]\n",
    "    plt.text(x, y, label, ha='center', va='center', color='black', fontsize=12)\n",
    "# Draw ball path\n",
    "ball_height = 0.75\n",
    "path_color = 'deepskyblue'\n",
    "x_values = [np.linspace(dot_x_values[0]+1, -1),\n",
    "            np.linspace(dot_x_values[0], -7),\n",
    "            np.linspace(dot_x_values[0], -7),\n",
    "            np.linspace(dot_x_values[0]+1, dot_x_values[2]+1)]\n",
    "y_values = [ball_height*np.ones(len(x_values[0])),\n",
    "            ball_height*np.sqrt((x_values[1]-dot_x_values[0])),\n",
    "            -ball_height*np.sqrt((x_values[2]-dot_x_values[0])),\n",
    "            -ball_height*np.ones(len(x_values[3]))]\n",
    "for x, y in zip(x_values, y_values):\n",
    "    plt.plot(x, y, color=path_color, linewidth=0.5)\n",
    "# Draw ball\n",
    "ball_coordinates = [-5., ball_height]\n",
    "ball = plt.Circle(ball_coordinates, radius=0.01 * plot_ranges[0][0], facecolor='lightblue', edgecolor='black', linewidth=1.)\n",
    "ax.add_patch(ball)\n",
    "# Mark distances\n",
    "mark_color = 'black'\n",
    "## Above the axis\n",
    "above_mark_xs = dot_x_values[:2] + [0.]\n",
    "above_mark_ys = [ball_height, 2.5*ball_height]\n",
    "for x in above_mark_xs:\n",
    "    plt.plot([x, x], above_mark_ys, color=mark_color, linewidth=0.5)\n",
    "## Below the axis\n",
    "below_mark_xs = [dot_x_values[i] for i in [0, 2]]\n",
    "below_mark_ys = [-2.5*ball_height, -ball_height]\n",
    "for x in below_mark_xs:\n",
    "    plt.plot([x, x], below_mark_ys, color=mark_color, linewidth=0.5)\n",
    "# Label distances\n",
    "distance_values = [7, 1, 14]\n",
    "distance_labels = [str(distance_values[i]) + ' m' for i in range(len(distance_values))]\n",
    "distance_label_positions = [[dot_x_values[0] + 0.5*distance_values[0], 2.5*0.75*ball_height],\n",
    "                            [dot_x_values[1] + 0.5*distance_values[1], 2.5*1.25*ball_height],\n",
    "                            [dot_x_values[0] + 0.5*distance_values[2], -2.5*0.75*ball_height]]\n",
    "for label_index, position in enumerate(distance_label_positions):\n",
    "    plt.text(position[0], position[1], distance_labels[label_index], ha='center', va='center')\n",
    "# Add label arrows\n",
    "plt.annotate(text='',xy=(dot_x_values[0] + 0.5*distance_values[2], 2.5*ball_height), xytext=(0,2.5*ball_height), arrowprops=dict(arrowstyle='<->'))\n",
    "plt.arrow(dot_x_values[0]+0.425*distance_values[2], -2.5*0.75*ball_height, -0.42*distance_values[2], 0.,\n",
    "          color='black', length_includes_head=True, head_width=0.1, linewidth=0.5)\n",
    "plt.arrow(dot_x_values[0]+0.575*distance_values[2], -2.5*0.75*ball_height, 0.42*distance_values[2], 0.,\n",
    "          color='black', length_includes_head=True, head_width=0.1, linewidth=0.5)\n",
    "plt.arrow(dot_x_values[0]+0.4*distance_values[0], 2.5*0.75*ball_height, -0.38*distance_values[0], 0.,\n",
    "          color='black', length_includes_head=True, head_width=0.1, linewidth=0.5)\n",
    "plt.arrow(dot_x_values[0]+0.6*distance_values[0], 2.5*0.75*ball_height, 0.38*distance_values[0], 0.,\n",
    "          color='black', length_includes_head=True, head_width=0.1, linewidth=0.5)\n",
    "# Don't display axes\n",
    "ax.axes.xaxis.set_visible(False)\n",
    "ax.axes.yaxis.set_visible(False)\n",
    "# Show the plot\n",
    "plt.show()\n"
   ],
   "metadata": {
    "collapsed": false,
    "pycharm": {
     "name": "#%%\n"
    }
   }
  },
  {
   "cell_type": "markdown",
   "source": [
    "### Problem 12-17\n",
    "Car $B$ is traveling a distance $d$ ahead of car $A$. Both cars are traveling at $60 \\,\\textrm{ft}/\\textrm{s}$ when the\n",
    "driver of $B$ suddenly applies the brakes, causing his car to decelerate at $12 \\,\\textrm{ft} / \\textrm{s}^2$. It takes\n",
    "the driver of car $A$ $0.75 \\second$ to react (this is the normal reaction time for drivers). When he applies his\n",
    "brakes, he decelerates at $15 \\,\\textrm{ft}/\\textrm{s}^2$. Determine the minimum distance $d$ be tween the cars so as to avoid a collision."
   ],
   "metadata": {
    "collapsed": false
   }
  }
 ],
 "metadata": {
  "kernelspec": {
   "display_name": "Python 3",
   "language": "python",
   "name": "python3"
  },
  "language_info": {
   "codemirror_mode": {
    "name": "ipython",
    "version": 2
   },
   "file_extension": ".py",
   "mimetype": "text/x-python",
   "name": "python",
   "nbconvert_exporter": "python",
   "pygments_lexer": "ipython2",
   "version": "2.7.6"
  }
 },
 "nbformat": 4,
 "nbformat_minor": 0
}