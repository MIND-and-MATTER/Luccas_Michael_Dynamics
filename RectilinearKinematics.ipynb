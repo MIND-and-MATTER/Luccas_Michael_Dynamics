{
 "cells": [
  {
   "cell_type": "markdown",
   "metadata": {
    "collapsed": true,
    "pycharm": {
     "name": "#%% md\n"
    }
   },
   "source": [
    "# Rectilinear Kinematics\n",
    "<!-- Define LaTeX shortcuts -->\n",
    "$\\newcommand{\\Mdim}{{\\,\\mathrm{M}}}$    <!-- Define mass dimension shortcut -->\n",
    "$\\newcommand{\\Ldim}{{\\,\\mathrm{L}}}$    <!-- Define length dimension shortcut -->\n",
    "$\\newcommand{\\Tdim}{{\\,\\mathrm{T}}}$    <!-- Define time dimension shortcut -->"
   ]
  },
  {
   "cell_type": "markdown",
   "source": [
    "## Continuous quantities\n",
    "| Concept      | Dimensions                     | SI unit | Differential Relationship | Integral Relationship                          |\n",
    "| :---         | ---                            | :---:   | :---:                     | :---:                                          |\n",
    "| Position     | $\\textrm{dim}(s) = \\textrm{L}$ | m       | $s = \\frac{dA }{dt}$                       | $s = s_0 + \\int^{t} v(t^{\\prime})\\, dt^{\\prime}$ |\n",
    "| Velocity     | $\\textrm{dim}(v) = \\textrm{LT} ^{-1}$ | $\\textrm{m/s}$      | $v = \\frac{ds}{dt}$       | $v = v_0 + \\int^{t} a(t^{\\prime})\\, dt^{\\prime}$ |\n",
    "| Acceleration | $\\textrm{dim}(a) = \\textrm{LT} ^{-2}$ | $\\textrm{m/s}^2$       | $a = \\frac{dv}{dt}$   |$a = a_0 + \\int^{t} j(t^{\\prime})\\, dt^{\\prime}$|\n",
    "\n",
    "## Discrete quantities\n",
    "| Concept              | Dimensions                     | SI unit | Divisional Relationship   | Multiplicative Relationship            |\n",
    "| :---                 | ---                            | :---:   | :---:                     | :---:                                  |\n",
    "| Total Distance       | $\\textrm{dim}(s^{\\prime}) = \\textrm{L}$ | m       | --                        | $s^{\\prime}= (v_{sp})_{ave}\\, \\times\\, \\Delta t$                       |\n",
    "| Displacement         | $\\textrm{dim}({\\Delta}s) = \\textrm{L}$ | m       | --                        | ${\\Delta}s = v_{ave}\\, \\times\\, \\Delta t$                       |\n",
    "| Average Speed        | $\\textrm{dim}((v_{sp})_{ave}) = \\textrm{LT} ^{-1}$ | m/s       | $(v_{sp})_{ave} = \\frac{s_T}{\\Delta t}$         | $(v_{sp})_{ave}= \\lvert {a_{ave}} \\rvert \\times\\, \\Delta t$                       |\n",
    "| Average Velocity     | $\\textrm{dim}(v_{ave}) = \\textrm{LT} ^{-1}$ | m/s     | $v_{ave} = \\frac{\\Delta s}{\\Delta t}$         | $v_{ave} = a_{ave} \\times\\, \\Delta t$                       |\n",
    "| Average Acceleration | $\\textrm{dim}(a_{ave}) = \\textrm{LT} ^{-2}$ | $\\textrm{m/s}^2$     | $a_{ave} = \\frac{\\Delta v}{\\Delta t}$         | --                                     |\n",
    "\n",
    "## Other Relationships\n",
    "### Time-free Continuous Quantity Differential Relationship\n",
    "<!-- use \\, to space letter expressions that multiply -->\n",
    "\n",
    "$ dt = \\frac{ds}{v} = \\frac{dv}{a}$\n",
    "\n",
    "$\\Rightarrow a\\, ds = v\\, dv$\n",
    "\n",
    "\n",
    "\n",
    "### Constant Acceleration Equations\n",
    "<!-- Blocks of equations use align and should align at the = sign\n",
    "     Each line should end with \\\\ -->\n",
    "\\begin{align}\n",
    "v   &= v_0 + a_c\\, t \\\\\n",
    "s   &= s_0 + v_0\\, t + \\frac{1}{2}a_c\\,t^2\\\\\n",
    "v^2 &= v^2_0 + 2\\, a_c\\, (s-s_0)\\\\\n",
    "\\end{align}"
   ],
   "metadata": {
    "collapsed": false,
    "pycharm": {
     "name": "#%% md\n"
    }
   }
  },
  {
   "cell_type": "markdown",
   "source": [
    "## Problems\n",
    "(from Hibbeler, ___Dynamics___, 14th ed.)\n",
    "$\\newcommand{\\meter}{{\\,\\mathrm{m}}}$                                <!-- Define meter symbol shortcut -->\n",
    "$\\newcommand{\\second}{{\\,\\mathrm{s}}}$                               <!-- Define second symbol shortcut -->\n",
    "$\\newcommand{\\meterpersecond}{{\\;\\mathrm{m}/\\mathrm{s}}}$            <!-- Define meter per second symbol shortcut -->\n",
    "$\\newcommand{\\meterpersecondsquare}{{\\;\\mathrm{m}/\\mathrm{s}^2}}$   <!-- Define meter per second squared symbol shortcut -->\n",
    "### Preliminary Problem 12-1\n",
    "#### a)\n",
    "<!-- State problem -->\n",
    "If $s = (2t^3) \\mathrm{m}$, where $t$ is in seconds, determine $v$ when $t = 2\\second$.\n",
    "\n",
    "<!-- State relevant relationships -->\n",
    "$v = \\frac{ds}{dt}$\n",
    "<!-- Input problem-specific values and relationships, then solve symbolically -->\n",
    "$\\rightarrow v(t = 2\\mathrm{s}) = \\frac{d}{dt}(2t^3)|_{t = 2\\mathrm{s}} \\mathrm{m}/\\mathrm{s} = 6t^2|_{t = 2\\mathrm{s}} \\mathrm{m}/\\mathrm{s}$"
   ],
   "metadata": {
    "collapsed": false,
    "pycharm": {
     "name": "#%% md\n"
    }
   }
  },
  {
   "cell_type": "code",
   "execution_count": 1,
   "outputs": [
    {
     "name": "stdout",
     "output_type": "stream",
     "text": [
      "v(t = 2 s) = 14 m/s\n"
     ]
    }
   ],
   "source": [
    "# Perform calculations using Python\n",
    "time = 2  # s\n",
    "velocity = 6 * time^2\n",
    "print(f'v(t = 2 s) = {velocity} m/s')"
   ],
   "metadata": {
    "collapsed": false,
    "pycharm": {
     "name": "#%%\n"
    }
   }
  },
  {
   "cell_type": "markdown",
   "source": [
    "<!-- Make a new markdown section for each problem to ease reading -->\n",
    "#### b)\n",
    "If $v=(5s)\\mathrm{m}/\\mathrm{s}$,where $s$ is in meters, determine $a$ at $s=1 \\mathrm{m}$.\n",
    "\n",
    "$a\\, ds = v\\, dv \\rightarrow a(s) = v(s)\\, \\frac{dv}{ds}$\n",
    "\n",
    "$v(s) = (5s)\\mathrm{m}/\\mathrm{s}$ ; $\\frac{dv}{ds} = 5$\n",
    "\n",
    "$\\Rightarrow a(s)= 5\\, s\\, (5)\\, \\mathrm{m}/\\mathrm{s}^2$"
   ],
   "metadata": {
    "collapsed": false,
    "pycharm": {
     "name": "#%% md\n"
    }
   }
  },
  {
   "cell_type": "code",
   "execution_count": 2,
   "outputs": [
    {
     "name": "stdout",
     "output_type": "stream",
     "text": [
      "a(s=1m) = 25 m/s^2\n"
     ]
    }
   ],
   "source": [
    "position = 1\n",
    "acceleration = 25*position\n",
    "print(f'a(s=1m) = {acceleration} m/s^2')"
   ],
   "metadata": {
    "collapsed": false,
    "pycharm": {
     "name": "#%%\n"
    }
   }
  },
  {
   "cell_type": "markdown",
   "source": [
    "#### c)\n",
    "If $v = (4t + 5)\\mathrm{m}/\\mathrm{s}$, where $t$ is in seconds, determine $a$\n",
    "when $t = 2\\mathrm{s}$.\n",
    "\n",
    "$ dt = \\frac{dv}{a} \\rightarrow  a = \\frac{dv}{dt}$\n",
    "\n",
    "$v(t) = (4t + 5)\\mathrm{m}/\\mathrm{s}$ ; $\\frac{dv}{dt} = 4$\n",
    "\n",
    "$ \\Rightarrow a(s) = 4\\, \\mathrm{m}/\\mathrm{s}^2$"
   ],
   "metadata": {
    "collapsed": false
   }
  },
  {
   "cell_type": "code",
   "execution_count": 3,
   "outputs": [
    {
     "name": "stdout",
     "output_type": "stream",
     "text": [
      "a(t=1s) = 4 m/s\n"
     ]
    }
   ],
   "source": [
    "acceleration = 4\n",
    "print(f'a(t=1s) = {acceleration} m/s')"
   ],
   "metadata": {
    "collapsed": false,
    "pycharm": {
     "name": "#%%\n"
    }
   }
  },
  {
   "cell_type": "markdown",
   "source": [
    "#### d)\n",
    "If $a = 2\\, \\mathrm{m}/\\mathrm{s}^2$, determine $v$ when $t = 2\\, \\mathrm{s}$ if $v = 0$ when $t = 0$.\n",
    "\n",
    "$v = v_0 + a_c\\, t$\n",
    "\n",
    "$ \\Rightarrow v(t) = a_c\\, t\\, \\mathrm{m}/\\mathrm{s}$"
   ],
   "metadata": {
    "collapsed": false
   }
  },
  {
   "cell_type": "code",
   "execution_count": 4,
   "outputs": [
    {
     "name": "stdout",
     "output_type": "stream",
     "text": [
      "v(t=2s) = 4 m/s\n"
     ]
    }
   ],
   "source": [
    "time = 2\n",
    "acceleration = 2\n",
    "velocity = acceleration * time\n",
    "print(f'v(t=2s) = {velocity} m/s')\n"
   ],
   "metadata": {
    "collapsed": false,
    "pycharm": {
     "name": "#%%\n"
    }
   }
  },
  {
   "cell_type": "markdown",
   "source": [
    "#### e)\n",
    "If $a = 2 \\mathrm{m}/\\mathrm{s}^2$, determine $v$ at $s = 4  \\mathrm{m}$ if $v = 3 \\mathrm{m}/\\mathrm{s}$ at $s = 0$\n",
    "\n",
    "$v^2 = v^2_0 + 2\\, a_c\\, (s-s_0)$\n",
    "\n",
    "$\\Rightarrow v(s)  = \\sqrt{v^2_0 + 2\\, a_c\\, (s-s_0)} \\,\\, \\mathrm{m}/\\mathrm{s}$"
   ],
   "metadata": {
    "collapsed": false
   }
  },
  {
   "cell_type": "code",
   "execution_count": 5,
   "outputs": [
    {
     "name": "stdout",
     "output_type": "stream",
     "text": [
      "v(s=4) = 4.123 m/s\n"
     ]
    }
   ],
   "source": [
    "from math import sqrt as sqrt\n",
    "initial_velocity = 3\n",
    "initial_position = 0\n",
    "acceleration = 2\n",
    "s=4\n",
    "\n",
    "velocity_final = sqrt(initial_velocity^2 + 2*acceleration*(s-initial_position))\n",
    "\n",
    "print(f'v(s=4) = {velocity_final:.3f} m/s')\n"
   ],
   "metadata": {
    "collapsed": false,
    "pycharm": {
     "name": "#%%\n"
    }
   }
  },
  {
   "cell_type": "markdown",
   "source": [
    "#### f)\n",
    "If $a = (s) \\mathrm{m}/\\mathrm{s}^2$, where $s$ is in meters, determine $v$ when $s = 5  \\mathrm{m}$ if $v = 0$ at $s = 4\n",
    "\\meter$.\n",
    "\n",
    "$a\\, ds = v\\, dv$; $a = s\\, \\textrm{m/s}^2$ $\\rightarrow \\int{s\\, ds} = \\int{v\\, dv}$\n",
    "\n",
    "$\\rightarrow \\frac{1}{2}\\, s^{2} = \\frac{1}{2}\\, v^{2} + C$\n",
    "\n",
    "$\\Rightarrow v = \\sqrt{s^{2}} -C$ = $s-4 \\,\\, \\mathrm{m}/\\mathrm{s}\\,\\,$  for  $C = 4$"
   ],
   "metadata": {
    "collapsed": false,
    "pycharm": {
     "name": "#%% md\n"
    }
   }
  },
  {
   "cell_type": "code",
   "execution_count": 6,
   "outputs": [
    {
     "name": "stdout",
     "output_type": "stream",
     "text": [
      "v(s=5) = 1 m/s\n"
     ]
    }
   ],
   "source": [
    "position = 5\n",
    "velocity = position - 4\n",
    "\n",
    "print(f'v(s=5) = {velocity} m/s')"
   ],
   "metadata": {
    "collapsed": false,
    "pycharm": {
     "name": "#%%\n"
    }
   }
  },
  {
   "cell_type": "markdown",
   "source": [
    "#### g)\n",
    "If $a = 4 \\mathrm{m}/\\mathrm{s}^2$, determine $s$ when $t = 3\\, \\mathrm{s}$ if $v = 2 \\mathrm{m}/\\mathrm{s}$ and $s = 2\\,  \\mathrm{m}$ when\n",
    "$t = 0$.\n",
    "\n",
    "$s = s_0 + v_0\\, t + \\frac{1}{2}a_c\\,t^2$"
   ],
   "metadata": {
    "collapsed": false,
    "pycharm": {
     "name": "#%% md\n"
    }
   }
  },
  {
   "cell_type": "code",
   "execution_count": 7,
   "outputs": [
    {
     "name": "stdout",
     "output_type": "stream",
     "text": [
      "s(t = 3) = 26.0 m\n"
     ]
    }
   ],
   "source": [
    "position_initial = 2\n",
    "velocity_initial = 2\n",
    "acceleration = 4\n",
    "time = 3\n",
    "\n",
    "position_final = position_initial + velocity_initial*time + acceleration*(time**2)/2\n",
    "\n",
    "print(f's(t = 3) = {position_final} m')"
   ],
   "metadata": {
    "collapsed": false,
    "pycharm": {
     "name": "#%%\n"
    }
   }
  },
  {
   "cell_type": "markdown",
   "source": [
    "#### h)\n",
    "If $a = (8t^2)\\, \\mathrm{m}/\\mathrm{s}^2$ , determine $v$ when $t = 1\\, \\mathrm{s}$ if $v = 0$ at $t = 0$.\n",
    "\n",
    "$a\\, ds = v\\, dv$; $\\,\\, v = \\frac{ds}{dt}$;\n",
    "\n",
    "$\\rightarrow a\\, dt = dv$\n",
    "$\\rightarrow \\int{a\\, dt = \\int{dv}}$\n",
    "\n",
    "$\\Rightarrow v = \\frac{8}{3}\\, t^3 + C \\,\\, \\mathrm{m}/\\mathrm{s}$\n",
    "\n",
    "$v(t=0)= 0 \\rightarrow C=0$"
   ],
   "metadata": {
    "collapsed": false,
    "pycharm": {
     "name": "#%% md\n"
    }
   }
  },
  {
   "cell_type": "code",
   "execution_count": 8,
   "outputs": [
    {
     "name": "stdout",
     "output_type": "stream",
     "text": [
      "v(t=1) = 2.667 m/s\n"
     ]
    }
   ],
   "source": [
    "time = 1\n",
    "velocity = 8*(time**3)/3\n",
    "\n",
    "print(f'v(t=1) = {velocity:.3f} m/s')"
   ],
   "metadata": {
    "collapsed": false,
    "pycharm": {
     "name": "#%%\n"
    }
   }
  },
  {
   "cell_type": "markdown",
   "source": [
    "#### i)\n",
    "If $s = (3t^2 + 2) \\mathrm{m}$, determine $v$ when $t = 2 \\mathrm{s}$.\n",
    "\n",
    "$ v = \\frac{ds}{dt}$\n",
    "\n",
    "$\\Rightarrow v = 6\\, t \\,\\, \\mathrm{m}/\\mathrm{s}$"
   ],
   "metadata": {
    "collapsed": false
   }
  },
  {
   "cell_type": "code",
   "execution_count": 9,
   "outputs": [
    {
     "name": "stdout",
     "output_type": "stream",
     "text": [
      "v(t=2) = 12 m/s\n"
     ]
    }
   ],
   "source": [
    "time = 2\n",
    "velocity = 6*time\n",
    "\n",
    "print(f'v(t=2) = {velocity} m/s')"
   ],
   "metadata": {
    "collapsed": false,
    "pycharm": {
     "name": "#%%\n"
    }
   }
  },
  {
   "cell_type": "markdown",
   "source": [
    "#### j)\n",
    "\n",
    "When $t = 0$ the particle is at $A$. In four seconds it travels to $B$, then in another six seconds it travels to $C$.\n",
    "Determine the average velocity and the average speed. The origin of the coordinate is at $O$.\n",
    "\n",
    "$\\|{AB}\\| = \\sqrt{(B_x -A_x)^2 + (B_y - A_y)^2 + (B_z - A_z)^2}$\n",
    "\n",
    "[//]: # \"$\\vec{u}_{AB} = \\frac{(B_x -A_x)^2 + (B_y - A_y)^2 + (B_z - A_z)}{\\|AB}$\"\n",
    "\n",
    "$\\|{BC}\\| = \\sqrt{(C_x -B_x)^2 + (C_y - B_y)^2 + (C_z - B_z)^2}$\n",
    "\n",
    "[//]: # \"$\\vec{u}_{BC} = \\frac{(C_x -B_x)^2 + (C_y - B_y)^2 + (C_z - B_z)^2}{\\|BC}$\"\n",
    "\n",
    "$t_{A \\rightarrow B} = 4\\, \\mathrm{s}; \\,\\, t_{B \\rightarrow C} = 6\\, \\mathrm{s}$\n",
    "$\\Rightarrow t_{total} = 10\\, s$\n",
    "\n",
    "$v_{ave} = \\frac{\\Delta s}{t_{total}} \\,\\, \\mathrm{m} / \\mathrm{s}$\n",
    "\n",
    "$(v_{sp})_{ave} = \\frac{{\\|AB\\| + \\|BC\\|}}{t_{total}} \\,\\, \\mathrm{m} / \\mathrm{s}$"
   ],
   "metadata": {
    "collapsed": false
   }
  },
  {
   "cell_type": "code",
   "execution_count": 38,
   "outputs": [
    {
     "name": "stdout",
     "output_type": "stream",
     "text": [
      "Average velocity = 0.7 m/s\n",
      "Average speed = 2.1 m/s\n"
     ]
    }
   ],
   "source": [
    "A_to_B = (-8) - (-1)\n",
    "B_to_C = 6 - (-8)\n",
    "time = 10\n",
    "\n",
    "average_velocity = (A_to_B + B_to_C) / time\n",
    "average_speed = (abs(A_to_B) + abs(B_to_C)) / time\n",
    "\n",
    "print(f'Average velocity = {average_velocity} m/s')\n",
    "print(f'Average speed = {average_speed} m/s')"
   ],
   "metadata": {
    "collapsed": false,
    "pycharm": {
     "name": "#%%\n"
    }
   }
  },
  {
   "cell_type": "code",
   "execution_count": 14,
   "outputs": [
    {
     "data": {
      "text/plain": "<Figure size 432x288 with 1 Axes>",
      "image/png": "[encoded data removed]"
     },
     "metadata": {
      "needs_background": "light"
     },
     "output_type": "display_data"
    }
   ],
   "source": [
    "# On rare occasion, use Python to make diagrams\n",
    "import matplotlib.pyplot as plt\n",
    "import numpy as np\n",
    "# Set plot range\n",
    "plot_extremes = [[-9., 10.],\n",
    "                 [-6., 6.]]\n",
    "plt.xlim(plot_extremes[0])\n",
    "plt.ylim(plot_extremes[1])\n",
    "plot_ranges = [np.diff(plot_extremes[0]), np.diff(plot_extremes[1])]\n",
    "# Draw axis\n",
    "plt.arrow(plot_extremes[0][0], 0., 0.9*plot_ranges[0][0], 0., color='k', head_width=0.)\n",
    "# Label axis\n",
    "plt.text(plot_extremes[0][0]+0.95*plot_ranges[0][0], 0., r'$s$', ha='center', va='center', fontsize=12)\n",
    "# Draw points\n",
    "dot_radius = 0.005*plot_ranges[0][0]\n",
    "dot_color = 'black'\n",
    "ax = plt.gca()\n",
    "dot_x_values = [-8., -1., 6.]\n",
    "for dot_x in dot_x_values:\n",
    "    dot = plt.Circle((dot_x, 0.), radius=dot_radius, color=dot_color)\n",
    "    ax.add_patch(dot)\n",
    "# Mark origin\n",
    "plt.plot([0., 0.], [-0.125, 0.125], color='black')\n",
    "# Draw labels\n",
    "labels = [r'$B$', r'$A$', r'$O$', r'$C$']\n",
    "label_coordinates = [[-8.5, -0.5], [-0.5, 0.5], [0.5, 0.5], [6., 0.5]]\n",
    "for label_index, label in enumerate(labels):\n",
    "    x, y = label_coordinates[label_index]\n",
    "    plt.text(x, y, label, ha='center', va='center', color='black', fontsize=12)\n",
    "# Draw ball path\n",
    "ball_height = 0.75\n",
    "path_color = 'deepskyblue'\n",
    "x_values = [np.linspace(dot_x_values[0]+1, -1),\n",
    "            np.linspace(dot_x_values[0], -7),\n",
    "            np.linspace(dot_x_values[0], -7),\n",
    "            np.linspace(dot_x_values[0]+1, dot_x_values[2]+1)]\n",
    "y_values = [ball_height*np.ones(len(x_values[0])),\n",
    "            ball_height*np.sqrt((x_values[1]-dot_x_values[0])),\n",
    "            -ball_height*np.sqrt((x_values[2]-dot_x_values[0])),\n",
    "            -ball_height*np.ones(len(x_values[3]))]\n",
    "for x, y in zip(x_values, y_values):\n",
    "    plt.plot(x, y, color=path_color, linewidth=0.5)\n",
    "# Draw ball\n",
    "ball_coordinates = [-5., ball_height]\n",
    "ball = plt.Circle(ball_coordinates, radius=0.01 * plot_ranges[0][0], facecolor='lightblue', edgecolor='black', linewidth=1.)\n",
    "ax.add_patch(ball)\n",
    "# Mark distances\n",
    "mark_color = 'black'\n",
    "## Above the axis\n",
    "above_mark_xs = dot_x_values[:2] + [0.]\n",
    "above_mark_ys = [ball_height, 2.5*ball_height]\n",
    "for x in above_mark_xs:\n",
    "    plt.plot([x, x], above_mark_ys, color=mark_color, linewidth=0.5)\n",
    "## Below the axis\n",
    "below_mark_xs = [dot_x_values[i] for i in [0, 2]]\n",
    "below_mark_ys = [-2.5*ball_height, -ball_height]\n",
    "for x in below_mark_xs:\n",
    "    plt.plot([x, x], below_mark_ys, color=mark_color, linewidth=0.5)\n",
    "# Label distances\n",
    "distance_values = [7, 1, 14]\n",
    "distance_labels = [str(distance_values[i]) + ' m' for i in range(len(distance_values))]\n",
    "distance_label_positions = [[dot_x_values[0] + 0.5*distance_values[0], 2.5*0.75*ball_height],\n",
    "                            [dot_x_values[1] + 0.5*distance_values[1], 2.5*1.25*ball_height],\n",
    "                            [dot_x_values[0] + 0.5*distance_values[2], -2.5*0.75*ball_height]]\n",
    "for label_index, position in enumerate(distance_label_positions):\n",
    "    plt.text(position[0], position[1], distance_labels[label_index], ha='center', va='center')\n",
    "# Add label arrows\n",
    "plt.annotate(text='',xy=(dot_x_values[0] + 0.5*distance_values[2], 2.5*ball_height), xytext=(0,2.5*ball_height), arrowprops=dict(arrowstyle='<->'))\n",
    "plt.arrow(dot_x_values[0]+0.425*distance_values[2], -2.5*0.75*ball_height, -0.42*distance_values[2], 0.,\n",
    "          color='black', length_includes_head=True, head_width=0.1, linewidth=0.5)\n",
    "plt.arrow(dot_x_values[0]+0.575*distance_values[2], -2.5*0.75*ball_height, 0.42*distance_values[2], 0.,\n",
    "          color='black', length_includes_head=True, head_width=0.1, linewidth=0.5)\n",
    "plt.arrow(dot_x_values[0]+0.4*distance_values[0], 2.5*0.75*ball_height, -0.38*distance_values[0], 0.,\n",
    "          color='black', length_includes_head=True, head_width=0.1, linewidth=0.5)\n",
    "plt.arrow(dot_x_values[0]+0.6*distance_values[0], 2.5*0.75*ball_height, 0.38*distance_values[0], 0.,\n",
    "          color='black', length_includes_head=True, head_width=0.1, linewidth=0.5)\n",
    "# Don't display axes\n",
    "ax.axes.xaxis.set_visible(False)\n",
    "ax.axes.yaxis.set_visible(False)\n",
    "# Show the plot\n",
    "plt.show()\n"
   ],
   "metadata": {
    "collapsed": false,
    "pycharm": {
     "name": "#%%\n"
    }
   }
  },
  {
   "cell_type": "markdown",
   "source": [
    "### Problem 12-17\n",
    "Car $B$ is traveling a distance $d$ ahead of car $A$. Both cars are traveling at $60 \\,\\textrm{ft}/\\textrm{s}$ when the\n",
    "driver of $B$ suddenly applies the brakes, causing his car to decelerate at $12 \\,\\textrm{ft} / \\textrm{s}^2$. It takes\n",
    "the driver of car $A$ $0.75 \\second$ to react (this is the normal reaction time for drivers). When he applies his\n",
    "brakes, he decelerates at $15 \\,\\textrm{ft}/\\textrm{s}^2$. Determine the minimum distance $d$ be tween the cars so as to avoid a collision.\n",
    "\n",
    "The answer to this question is given by calculations which become much easier when the reference frame is changed.\n",
    "Consider a drag race. Initially both cars are at a stand-still. At $t = 0$, car $B$ takes off with $a = 12$ ft/$\\mathrm{s}^2$.\n",
    "At $t = 0.75$ s, car $A$ starts the race with $a = 15$ ft/$\\mathrm{s}^2$. The distance $D$ necessary for car $A$ to overtake car $B$\n",
    "is equivalent to the distance $d$ required to avoid collision in the first case.\n",
    "\n",
    "$\\frac{d^2s}{dt^2} = \\frac{dv}{dt} = a$\n",
    "\n",
    "$\\rightarrow \\Delta s(t) = \\int^{t_f}_0 {\\int{a\\, (t'')\\, dt'' \\, dt'}}$\n",
    "\n",
    "$\\rightarrow \\Delta s_A = \\frac{15}{6}\\, t^3 \\rvert _0 ^{s-.75}$\n",
    "\n",
    "$\\,\\,\\,\\,\\,\\,\\, \\Delta s_B = \\frac{12}{6}\\, t^3 \\rvert _0 ^{s}$\n",
    "\n",
    "Set $\\Delta s_A$ equal $\\Delta s_B$ and solve for $s$.\n",
    "\n",
    "$\\frac{15}{6}\\, t^3 \\rvert _0 ^{s-.75} = \\frac{12}{6}\\, t^3 \\rvert _0 ^{s}$\n",
    "\n",
    "$\\rightarrow s^3(s - 0.75) = \\frac{15}{12}$\n",
    "\n",
    "$\\rightarrow (1 - \\frac{0.75}{s})^3 = \\frac{15}{12}$\n",
    "\n",
    "$\\Rightarrow s = \\lvert \\frac{-0.75}{\\sqrt[3]{\\frac{15}{12}}\\, -1} \\rvert$\n",
    "\n"
   ],
   "metadata": {
    "collapsed": false
   }
  },
  {
   "cell_type": "code",
   "execution_count": 52,
   "outputs": [
    {
     "name": "stdout",
     "output_type": "stream",
     "text": [
      "The initial distance between cars A and B required to avoid collision must be greater than 9.713 ft.\n"
     ]
    }
   ],
   "source": [
    "distance_required = abs((0.75) / (1 - (15/12)**(1/3)))\n",
    "\n",
    "print(f'The initial distance between cars A and B required to avoid collision must be greater than {distance_required:.3f} ft.')\n",
    "\n"
   ],
   "metadata": {
    "collapsed": false,
    "pycharm": {
     "name": "#%%\n"
    }
   }
  }
 ],
 "metadata": {
  "kernelspec": {
   "display_name": "Python 3",
   "language": "python",
   "name": "python3"
  },
  "language_info": {
   "codemirror_mode": {
    "name": "ipython",
    "version": 2
   },
   "file_extension": ".py",
   "mimetype": "text/x-python",
   "name": "python",
   "nbconvert_exporter": "python",
   "pygments_lexer": "ipython2",
   "version": "2.7.6"
  }
 },
 "nbformat": 4,
 "nbformat_minor": 0
}